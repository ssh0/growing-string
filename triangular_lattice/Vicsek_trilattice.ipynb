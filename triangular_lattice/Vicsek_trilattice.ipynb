{
 "cells": [
  {
   "cell_type": "markdown",
   "metadata": {},
   "source": [
    "# Collective motion on triangular lattice with Vicsek Model\n",
    "\n",
    "三角格子上に制限された線素の運動を考えるために，まずは三角格子を生成し，そのクラスが適切に作られているか確かめてみることにする。\n",
    "\n",
    "例題として，三角格子状でのVicsekモデルを考えてみる。\n",
    "\n",
    ">[Zoltán Csahók and Tamás Vicsek. Lattice-gas model for collective biological motion. Phys. Rev. E, Vol. 52, pp. 5297-5303, November 1995.](http://link.aps.org/doi/10.1103/PhysRevE.52.5297)\n",
    "\n",
    "上の論文を参考に，三角格子を実現するところから。"
   ]
  },
  {
   "cell_type": "markdown",
   "metadata": {},
   "source": [
    "まず，一般に格子，あるいはネットワークについて考えるとき，ノードに与えられた情報とノード間のエッジがどのように張られているかが問題となる。\n",
    "\n",
    "この視点から考えると，2次元平面上の三角格子は，(x, y)の2つの変数を持ち，周囲には等距離，等間隔に6つのノードが存在するネットワークと捉えることができる。\n",
    "\n",
    "したがって，これをプログラムで扱いやすい形にするためには，一旦2×2の行列を考え，行列の上下左右のみでなく，さらに二つの点が隣接していると捉えるように拡張することによって，その位置関係を表すことができる。\n",
    "\n",
    "また，これらそれぞれの点に(x, y)の座標が割り振られるが，これはある点の座標とノード間の距離を定めることによって決められる。\n",
    "\n",
    "クラスの設計としては，\n",
    "\n",
    "* 隣接関係を拡張\n",
    "    * ある格子点のインデックスが渡されたときに，その隣接する6つの点のインデックスの組を返す\n",
    "* インデックス化された行列から2次元平面上へのマップ\n",
    "\n",
    "の2つの要素が必要なことが分かる。以上をふまえて，`LatticeTriangular`クラスを以下のように作成した。"
   ]
  },
  {
   "cell_type": "markdown",
   "metadata": {},
   "source": [
    "`LatticeTriangular(lattice=None, boundary='periodic', scale=10, x0=0, y0=0)`\n",
    "\n",
    "**lattice**: (*ndarray*)"
   ]
  }
 ],
 "metadata": {
  "kernelspec": {
   "display_name": "Python 2",
   "language": "python",
   "name": "python2"
  },
  "language_info": {
   "codemirror_mode": {
    "name": "ipython",
    "version": 2
   },
   "file_extension": ".py",
   "mimetype": "text/x-python",
   "name": "python",
   "nbconvert_exporter": "python",
   "pygments_lexer": "ipython2",
   "version": "2.7.6"
  },
  "widgets": {
   "state": {},
   "version": "1.1.2"
  }
 },
 "nbformat": 4,
 "nbformat_minor": 0
}
